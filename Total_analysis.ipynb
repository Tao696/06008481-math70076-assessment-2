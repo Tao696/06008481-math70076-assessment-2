{
 "cells": [
  {
   "cell_type": "markdown",
   "id": "bfec1b70",
   "metadata": {},
   "source": [
    "# 1. Dataset overview"
   ]
  },
  {
   "cell_type": "code",
   "execution_count": null,
   "id": "9b1a3750",
   "metadata": {},
   "outputs": [],
   "source": [
    "import pandas as pd\n",
    "from data_overview import dataset_overview\n",
    "from preprocess_dataset"
   ]
  },
  {
   "cell_type": "code",
   "execution_count": null,
   "id": "2194193f",
   "metadata": {},
   "outputs": [],
   "source": []
  },
  {
   "cell_type": "markdown",
   "id": "cdc3b033",
   "metadata": {},
   "source": []
  }
 ],
 "metadata": {
  "kernelspec": {
   "display_name": "Python 3",
   "language": "python",
   "name": "python3"
  },
  "language_info": {
   "name": "python",
   "version": "3.12.8"
  }
 },
 "nbformat": 4,
 "nbformat_minor": 5
}
